{
 "cells": [
  {
   "cell_type": "code",
   "execution_count": 1,
   "id": "af1d2213",
   "metadata": {},
   "outputs": [
    {
     "ename": "ModuleNotFoundError",
     "evalue": "No module named 'alpha_vantage'",
     "output_type": "error",
     "traceback": [
      "\u001b[1;31m---------------------------------------------------------------------------\u001b[0m",
      "\u001b[1;31mModuleNotFoundError\u001b[0m                       Traceback (most recent call last)",
      "\u001b[1;32m~\\AppData\\Local\\Temp/ipykernel_15040/1926524796.py\u001b[0m in \u001b[0;36m<module>\u001b[1;34m\u001b[0m\n\u001b[0;32m      3\u001b[0m \u001b[1;33m\u001b[0m\u001b[0m\n\u001b[0;32m      4\u001b[0m \u001b[1;32mimport\u001b[0m \u001b[0mmatplotlib\u001b[0m\u001b[1;33m.\u001b[0m\u001b[0mpyplot\u001b[0m \u001b[1;32mas\u001b[0m \u001b[0mplt\u001b[0m\u001b[1;33m\u001b[0m\u001b[1;33m\u001b[0m\u001b[0m\n\u001b[1;32m----> 5\u001b[1;33m \u001b[1;32mfrom\u001b[0m \u001b[0malpha_vantage\u001b[0m\u001b[1;33m.\u001b[0m\u001b[0mtimeseries\u001b[0m \u001b[1;32mimport\u001b[0m \u001b[0mTimeSeries\u001b[0m\u001b[1;33m\u001b[0m\u001b[1;33m\u001b[0m\u001b[0m\n\u001b[0m",
      "\u001b[1;31mModuleNotFoundError\u001b[0m: No module named 'alpha_vantage'"
     ]
    }
   ],
   "source": [
    "import numpy as np\n",
    "import pandas as pd\n",
    "\n",
    "import matplotlib.pyplot as plt\n",
    "from alpha_vantage.timeseries import TimeSeries"
   ]
  },
  {
   "cell_type": "code",
   "execution_count": null,
   "id": "da0bdf21",
   "metadata": {},
   "outputs": [],
   "source": [
    "import requests\n",
    "\n",
    "API_KEY = 'ODD9QRDXB19W5S30'"
   ]
  },
  {
   "cell_type": "markdown",
   "id": "d7a04a85",
   "metadata": {},
   "source": [
    "1. american company:  FB Meta Platforms Inc\n",
    "\n",
    "2. canadina company: SHOP.TRT - shopify\n",
    "\n",
    "3. precious metals - GFI  - Gold Fields Ltd\n",
    "\n",
    "4. real estate : CIGI - Colliers International Group Stock\n",
    "\n",
    "5. travel sector : BKNG -  Booking Holdings Inc"
   ]
  },
  {
   "cell_type": "code",
   "execution_count": null,
   "id": "54901cc0",
   "metadata": {},
   "outputs": [],
   "source": [
    "df = pd.read_csv(\"aggregated_data.csv\")\n",
    "df.columns = [\"Date\", \"Total deaths\", \"Total confirmed\"]\n",
    "df"
   ]
  },
  {
   "cell_type": "code",
   "execution_count": null,
   "id": "aa4156f3",
   "metadata": {},
   "outputs": [],
   "source": [
    "from datetime import datetime\n",
    "# Below are quick example\n",
    "# Convert datetype to string\n",
    "df['Date']=df['Date'].astype(str)\n",
    "df['Date']=pd.to_datetime(df['Date'].astype(str))\n",
    "\n",
    "df\n"
   ]
  },
  {
   "cell_type": "code",
   "execution_count": null,
   "id": "096c5c2e",
   "metadata": {},
   "outputs": [],
   "source": [
    "df.set_index('Date', inplace=True)\n",
    "df"
   ]
  },
  {
   "cell_type": "markdown",
   "id": "4e7c83fe",
   "metadata": {},
   "source": [
    "### Booking Holding Inc"
   ]
  },
  {
   "cell_type": "code",
   "execution_count": null,
   "id": "1cbe1b6f",
   "metadata": {},
   "outputs": [],
   "source": [
    "ts = TimeSeries(key='API_KEY', output_format='pandas')\n",
    "data, meta = ts.get_daily(symbol='BKNG',outputsize='full')\n",
    "\n",
    "data.sort_values(by='date', ascending=True, inplace=True)\n",
    "data"
   ]
  },
  {
   "cell_type": "code",
   "execution_count": null,
   "id": "73aa6ab0",
   "metadata": {},
   "outputs": [],
   "source": [
    "data.tail(3)\n",
    "data = data.drop(index='2022-04-22')\n",
    "data.tail(3)"
   ]
  },
  {
   "cell_type": "code",
   "execution_count": null,
   "id": "245209c1",
   "metadata": {},
   "outputs": [],
   "source": [
    "data = data.drop(data.index[0:5086])\n",
    "\n"
   ]
  },
  {
   "cell_type": "code",
   "execution_count": null,
   "id": "3aaba376",
   "metadata": {},
   "outputs": [],
   "source": [
    "data.head()"
   ]
  },
  {
   "cell_type": "code",
   "execution_count": null,
   "id": "9246a643",
   "metadata": {},
   "outputs": [],
   "source": [
    "data.columns = [\"open\", \"BKNG-High\", \"BKNG-Low\", \"close\" ,\"volume\"]\n",
    "data"
   ]
  },
  {
   "cell_type": "code",
   "execution_count": null,
   "id": "394f4eee",
   "metadata": {},
   "outputs": [],
   "source": [
    "data = data.drop([\"open\",\"close\",\"volume\"], axis=1)\n",
    "data"
   ]
  },
  {
   "cell_type": "code",
   "execution_count": null,
   "id": "5f7fcc93",
   "metadata": {},
   "outputs": [],
   "source": [
    "#This is will keep all data and fill Nan where it's missing \n",
    "# shopify_res = pd.concat([df, data], axis=1)\n",
    "\n",
    "#This is will keep only the filled data - and remove empty cells\n",
    "travel_res = pd.concat([data, df], axis=1, join=\"inner\")\n",
    "travel_res"
   ]
  },
  {
   "cell_type": "markdown",
   "id": "5c1e642a",
   "metadata": {},
   "source": [
    "## Plot"
   ]
  },
  {
   "cell_type": "code",
   "execution_count": null,
   "id": "a87a9493",
   "metadata": {},
   "outputs": [],
   "source": [
    "x = np.arange(0, 565,1)\n",
    "\n",
    "\n",
    "s1 = travel_res[\"Total deaths\"]\n",
    "s2 = travel_res[\"Total confirmed\"]\n",
    "s3 = travel_res[\"BKNG-High\"]\n",
    "s4 = travel_res[\"BKNG-Low\"]\n",
    "\n",
    "plt.figure(figsize=(20,20))\n",
    "fig, axs = plt.subplots(2, 1)\n",
    "axs[0].plot(s1, 'g-.', label=\"Total deaths\")\n",
    "axs[0].plot(s2, 'b-', label=\"Total confirmed\")\n",
    "axs[0].set_xlabel('Date')\n",
    "axs[0].set_ylabel('cases')               \n",
    "axs[0].legend()\n",
    "\n",
    "axs[1].plot(s3, 'y--', label=\"BKNG-High\")\n",
    "axs[1].plot(s4, 'm', label=\"BKNG-Low\")\n",
    "axs[1].set_xlabel('Date')\n",
    "axs[1].set_ylabel('highs and lows')\n",
    "axs[1].legend()\n",
    "\n",
    "\n",
    "\n",
    "\n",
    "plt.subplots_adjust(left=0.1,\n",
    "                    bottom=0, \n",
    "                    right=0.9, \n",
    "                    top=2, \n",
    "                    wspace=0.4, \n",
    "                    hspace=0.4)\n",
    "plt.title(\"Covid case effects stock market\")\n",
    "\n",
    "plt.show()\n",
    "\n"
   ]
  },
  {
   "cell_type": "code",
   "execution_count": null,
   "id": "6e30ba97",
   "metadata": {},
   "outputs": [],
   "source": []
  }
 ],
 "metadata": {
  "kernelspec": {
   "display_name": "Python 3 (ipykernel)",
   "language": "python",
   "name": "python3"
  },
  "language_info": {
   "codemirror_mode": {
    "name": "ipython",
    "version": 3
   },
   "file_extension": ".py",
   "mimetype": "text/x-python",
   "name": "python",
   "nbconvert_exporter": "python",
   "pygments_lexer": "ipython3",
   "version": "3.9.7"
  }
 },
 "nbformat": 4,
 "nbformat_minor": 5
}
