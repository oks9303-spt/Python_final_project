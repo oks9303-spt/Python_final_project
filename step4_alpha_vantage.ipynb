{
 "cells": [
  {
   "cell_type": "code",
   "execution_count": 1,
   "id": "980a2d6c",
   "metadata": {},
   "outputs": [],
   "source": [
    "import numpy as np\n",
    "import pandas as pd\n",
    "import matplotlib.pyplot as plt"
   ]
  },
  {
   "cell_type": "markdown",
   "id": "777d99ba",
   "metadata": {},
   "source": [
    "https://pypi.org/project/alpha-vantage/"
   ]
  },
  {
   "cell_type": "code",
   "execution_count": 2,
   "id": "1e97dd9a",
   "metadata": {},
   "outputs": [],
   "source": [
    "from alpha_vantage.timeseries import TimeSeries "
   ]
  },
  {
   "cell_type": "code",
   "execution_count": 3,
   "id": "a145f402",
   "metadata": {},
   "outputs": [],
   "source": [
    "ts = TimeSeries(key='DAXRSK4WN54W5H09')"
   ]
  },
  {
   "cell_type": "code",
   "execution_count": null,
   "id": "472647b3",
   "metadata": {},
   "outputs": [],
   "source": []
  }
 ],
 "metadata": {
  "kernelspec": {
   "display_name": "Python 3 (ipykernel)",
   "language": "python",
   "name": "python3"
  },
  "language_info": {
   "codemirror_mode": {
    "name": "ipython",
    "version": 3
   },
   "file_extension": ".py",
   "mimetype": "text/x-python",
   "name": "python",
   "nbconvert_exporter": "python",
   "pygments_lexer": "ipython3",
   "version": "3.9.7"
  }
 },
 "nbformat": 4,
 "nbformat_minor": 5
}
